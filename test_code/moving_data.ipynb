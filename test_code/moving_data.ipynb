{
 "cells": [
  {
   "cell_type": "code",
   "execution_count": 6,
   "metadata": {},
   "outputs": [
    {
     "name": "stdout",
     "output_type": "stream",
     "text": [
      "/workspaces/Phe_AutoParking\n"
     ]
    }
   ],
   "source": [
    "%cd ../"
   ]
  },
  {
   "cell_type": "code",
   "execution_count": 7,
   "metadata": {},
   "outputs": [],
   "source": [
    "import os\n",
    "import os.path as osp\n",
    "from tqdm import tqdm\n",
    "import shutil\n",
    "import glob\n",
    "import random\n",
    "from icecream import ic"
   ]
  },
  {
   "cell_type": "code",
   "execution_count": 15,
   "metadata": {},
   "outputs": [],
   "source": [
    "org_data_dir = '/workspaces/Phe_AutoParking/data/face_data_aic'\n",
    "data_dir = '/workspaces/Phe_AutoParking/AI-Checkin/data_face_aic'"
   ]
  },
  {
   "cell_type": "code",
   "execution_count": 9,
   "metadata": {},
   "outputs": [
    {
     "data": {
      "text/plain": [
       "529"
      ]
     },
     "execution_count": 9,
     "metadata": {},
     "output_type": "execute_result"
    }
   ],
   "source": [
    "image_paths = glob.glob(org_data_dir + '/*/*.*')\n",
    "len(image_paths)"
   ]
  },
  {
   "cell_type": "code",
   "execution_count": 10,
   "metadata": {},
   "outputs": [],
   "source": [
    "val_paths = random.sample(image_paths, 20)"
   ]
  },
  {
   "cell_type": "code",
   "execution_count": 18,
   "metadata": {},
   "outputs": [],
   "source": [
    "# %rm -rf face_aic\n",
    "\n",
    "# os.mkdir(data_dir)\n",
    "os.mkdir(data_dir + '/train')\n",
    "os.mkdir(data_dir + '/val')"
   ]
  },
  {
   "cell_type": "code",
   "execution_count": 19,
   "metadata": {},
   "outputs": [
    {
     "name": "stderr",
     "output_type": "stream",
     "text": [
      "100%|██████████| 529/529 [00:00<00:00, 6404.81it/s]\n"
     ]
    }
   ],
   "source": [
    "for path in tqdm(image_paths):\n",
    "    name, file = path.split('/')[-2:]\n",
    "    if path in val_paths:\n",
    "        val_dir = osp.join(data_dir, 'val')\n",
    "        val_name = osp.join(val_dir, name)\n",
    "        val_file = osp.join(val_name, file)\n",
    "        if not osp.exists(val_name):\n",
    "            os.mkdir(val_name)\n",
    "        shutil.copy(path, val_file)\n",
    "    else:\n",
    "        train_dir = osp.join(data_dir, 'train')\n",
    "        train_name = osp.join(train_dir, name)\n",
    "        train_file = osp.join(train_name, file)\n",
    "        if not osp.exists(train_name):\n",
    "            os.mkdir(train_name)\n",
    "        shutil.copy(path, train_file)"
   ]
  },
  {
   "cell_type": "code",
   "execution_count": null,
   "metadata": {},
   "outputs": [],
   "source": []
  }
 ],
 "metadata": {
  "kernelspec": {
   "display_name": "Python 3.8.13 ('base')",
   "language": "python",
   "name": "python3"
  },
  "language_info": {
   "codemirror_mode": {
    "name": "ipython",
    "version": 3
   },
   "file_extension": ".py",
   "mimetype": "text/x-python",
   "name": "python",
   "nbconvert_exporter": "python",
   "pygments_lexer": "ipython3",
   "version": "3.7.7"
  },
  "orig_nbformat": 4,
  "vscode": {
   "interpreter": {
    "hash": "d4d1e4263499bec80672ea0156c357c1ee493ec2b1c70f0acce89fc37c4a6abe"
   }
  }
 },
 "nbformat": 4,
 "nbformat_minor": 2
}
