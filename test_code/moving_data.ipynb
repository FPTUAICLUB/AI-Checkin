{
 "cells": [
  {
   "cell_type": "code",
   "execution_count": 2,
   "metadata": {},
   "outputs": [
    {
     "name": "stdout",
     "output_type": "stream",
     "text": [
      "/workspaces/mmsegmentation/face_recognition\n"
     ]
    }
   ],
   "source": [
    "%cd ../"
   ]
  },
  {
   "cell_type": "code",
   "execution_count": 1,
   "metadata": {},
   "outputs": [],
   "source": [
    "import os\n",
    "import os.path as osp\n",
    "from tqdm import tqdm\n",
    "import shutil\n",
    "import glob\n",
    "import random\n",
    "from icecream import ic"
   ]
  },
  {
   "cell_type": "code",
   "execution_count": 3,
   "metadata": {},
   "outputs": [],
   "source": [
    "org_data_dir = '/workspaces/mmsegmentation/custom_data/face_data_aic'\n",
    "data_dir = 'face_aic'"
   ]
  },
  {
   "cell_type": "code",
   "execution_count": 4,
   "metadata": {},
   "outputs": [
    {
     "data": {
      "text/plain": [
       "529"
      ]
     },
     "execution_count": 4,
     "metadata": {},
     "output_type": "execute_result"
    }
   ],
   "source": [
    "image_paths = glob.glob(org_data_dir + '/*/*.jpg')\n",
    "len(image_paths)"
   ]
  },
  {
   "cell_type": "code",
   "execution_count": 5,
   "metadata": {},
   "outputs": [],
   "source": [
    "val_paths = random.sample(image_paths, 20)"
   ]
  },
  {
   "cell_type": "code",
   "execution_count": 12,
   "metadata": {},
   "outputs": [
    {
     "data": {
      "text/plain": [
       "['/workspaces/mmsegmentation/custom_data/face_data_aic/Trịnh Đức Linh/2.jpg',\n",
       " '/workspaces/mmsegmentation/custom_data/face_data_aic/Nguyễn Duy Minh/8.jpg',\n",
       " '/workspaces/mmsegmentation/custom_data/face_data_aic/Trần Mạnh Tiến/7.jpg',\n",
       " '/workspaces/mmsegmentation/custom_data/face_data_aic/Nguyễn Phương Nguyên/1.jpg',\n",
       " '/workspaces/mmsegmentation/custom_data/face_data_aic/Đặng Viết Tùng/5.jpg',\n",
       " '/workspaces/mmsegmentation/custom_data/face_data_aic/Nguyễn Triệu Ngọc Huyền/1.jpg',\n",
       " '/workspaces/mmsegmentation/custom_data/face_data_aic/Lý Đức Hùng/4.jpg',\n",
       " '/workspaces/mmsegmentation/custom_data/face_data_aic/Nguyễn Long Dương/2.jpg',\n",
       " '/workspaces/mmsegmentation/custom_data/face_data_aic/Phạm Bạc Nguyên/2.jpg',\n",
       " '/workspaces/mmsegmentation/custom_data/face_data_aic/Vũ Hoàng Tài Toàn/3.jpg',\n",
       " '/workspaces/mmsegmentation/custom_data/face_data_aic/Hoàng Thủy Tiên/1.jpg',\n",
       " '/workspaces/mmsegmentation/custom_data/face_data_aic/Phạm Ánh Nguyệt/0.jpg',\n",
       " '/workspaces/mmsegmentation/custom_data/face_data_aic/Nguyễn Đức Huy/0.jpg',\n",
       " '/workspaces/mmsegmentation/custom_data/face_data_aic/Nguyễn Ngọc Phương Linh/3.jpg',\n",
       " '/workspaces/mmsegmentation/custom_data/face_data_aic/Ngô Anh Kiệt/0.jpg',\n",
       " '/workspaces/mmsegmentation/custom_data/face_data_aic/Nguyễn Phương Nguyên/5.jpg',\n",
       " '/workspaces/mmsegmentation/custom_data/face_data_aic/Trần Mạnh Tiến/0.jpg',\n",
       " '/workspaces/mmsegmentation/custom_data/face_data_aic/Nguyễn Hồng Anh/4.jpg',\n",
       " '/workspaces/mmsegmentation/custom_data/face_data_aic/Phạm Bùi Quang Huy/0.jpg',\n",
       " '/workspaces/mmsegmentation/custom_data/face_data_aic/Trần Khánh Nam/1.jpg']"
      ]
     },
     "execution_count": 12,
     "metadata": {},
     "output_type": "execute_result"
    }
   ],
   "source": [
    "val_paths"
   ]
  },
  {
   "cell_type": "code",
   "execution_count": 10,
   "metadata": {},
   "outputs": [],
   "source": [
    "%rm -rf face_aic\n",
    "\n",
    "os.mkdir(data_dir)\n",
    "os.mkdir(data_dir + '/train')\n",
    "os.mkdir(data_dir + '/val')"
   ]
  },
  {
   "cell_type": "code",
   "execution_count": 11,
   "metadata": {},
   "outputs": [
    {
     "name": "stderr",
     "output_type": "stream",
     "text": [
      "100%|██████████| 529/529 [00:00<00:00, 12143.36it/s]\n"
     ]
    }
   ],
   "source": [
    "for path in tqdm(image_paths):\n",
    "    name, file = path.split('/')[-2:]\n",
    "    if path in val_paths:\n",
    "        val_dir = osp.join(data_dir, 'val')\n",
    "        val_name = osp.join(val_dir, name)\n",
    "        val_file = osp.join(val_name, file)\n",
    "        if not osp.exists(val_name):\n",
    "            os.mkdir(val_name)\n",
    "        shutil.copy(path, val_file)\n",
    "    else:\n",
    "        train_dir = osp.join(data_dir, 'train')\n",
    "        train_name = osp.join(train_dir, name)\n",
    "        train_file = osp.join(train_name, file)\n",
    "        if not osp.exists(train_name):\n",
    "            os.mkdir(train_name)\n",
    "        shutil.copy(path, train_file)"
   ]
  },
  {
   "cell_type": "code",
   "execution_count": null,
   "metadata": {},
   "outputs": [],
   "source": []
  }
 ],
 "metadata": {
  "kernelspec": {
   "display_name": "Python 3.8.13 ('base')",
   "language": "python",
   "name": "python3"
  },
  "language_info": {
   "codemirror_mode": {
    "name": "ipython",
    "version": 3
   },
   "file_extension": ".py",
   "mimetype": "text/x-python",
   "name": "python",
   "nbconvert_exporter": "python",
   "pygments_lexer": "ipython3",
   "version": "3.8.13"
  },
  "orig_nbformat": 4,
  "vscode": {
   "interpreter": {
    "hash": "d4d1e4263499bec80672ea0156c357c1ee493ec2b1c70f0acce89fc37c4a6abe"
   }
  }
 },
 "nbformat": 4,
 "nbformat_minor": 2
}
